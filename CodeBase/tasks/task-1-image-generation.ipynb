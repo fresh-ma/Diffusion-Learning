{
 "cells": [
  {
   "cell_type": "code",
   "execution_count": null,
   "metadata": {},
   "outputs": [
    {
     "data": {
      "text/plain": [
       "tensor([5, 6])"
      ]
     },
     "execution_count": 22,
     "metadata": {},
     "output_type": "execute_result"
    }
   ],
   "source": [
    "import numpy as np\n",
    "import torch\n",
    "\n",
    "x = torch.tensor([[1.0,2.0,3.0], [1.0,2.0,3.0]])\n",
    "\n",
    "ts = torch.randint(0, 10, size=(10, 10))\n",
    "ts"
   ]
  },
  {
   "cell_type": "code",
   "execution_count": null,
   "metadata": {},
   "outputs": [
    {
     "data": {
      "text/plain": [
       "['d:\\\\大学课程\\\\0-WorkSpace\\\\Diffusion-Learning\\\\CodeBase\\\\tasks',\n",
       " 'd:\\\\ANACONDA\\\\python39.zip',\n",
       " 'd:\\\\ANACONDA\\\\DLLs',\n",
       " 'd:\\\\ANACONDA\\\\lib',\n",
       " 'd:\\\\ANACONDA',\n",
       " '',\n",
       " 'C:\\\\Users\\\\华为\\\\AppData\\\\Roaming\\\\Python\\\\Python39\\\\site-packages',\n",
       " 'd:\\\\ANACONDA\\\\lib\\\\site-packages',\n",
       " 'd:\\\\ANACONDA\\\\lib\\\\site-packages\\\\win32',\n",
       " 'd:\\\\ANACONDA\\\\lib\\\\site-packages\\\\win32\\\\lib',\n",
       " 'd:\\\\ANACONDA\\\\lib\\\\site-packages\\\\Pythonwin',\n",
       " '../']"
      ]
     },
     "execution_count": 1,
     "metadata": {},
     "output_type": "execute_result"
    }
   ],
   "source": [
    "import sys\n",
    "# sys.path.append(\"../\")\n",
    "import models.DDPM\n",
    "\n"
   ]
  }
 ],
 "metadata": {
  "kernelspec": {
   "display_name": "base",
   "language": "python",
   "name": "python3"
  },
  "language_info": {
   "codemirror_mode": {
    "name": "ipython",
    "version": 3
   },
   "file_extension": ".py",
   "mimetype": "text/x-python",
   "name": "python",
   "nbconvert_exporter": "python",
   "pygments_lexer": "ipython3",
   "version": "3.9.18"
  }
 },
 "nbformat": 4,
 "nbformat_minor": 2
}
